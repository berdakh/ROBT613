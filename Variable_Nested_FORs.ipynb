{
 "cells": [
  {
   "cell_type": "code",
   "execution_count": 24,
   "metadata": {},
   "outputs": [],
   "source": [
    "import math\n",
    "\n",
    "def gamma_kg(nn, m):\n",
    "    mom1 = (math.gamma(m+nn/2))/(math.gamma(m))*(1/m)**(nn/2)*(math.gamma(m+nn/2))/(math.gamma(m))*(1/m)**(nn/2)\n",
    "    return mom1"
   ]
  },
  {
   "cell_type": "code",
   "execution_count": 8,
   "metadata": {},
   "outputs": [],
   "source": [
    "import operator as op\n",
    "from functools import reduce\n",
    "\n",
    "def ncr(n, r):\n",
    "    r = min(r, n-r)\n",
    "    numer = reduce(op.mul, range(n, n-r, -1), 1)\n",
    "    denom = reduce(op.mul, range(1, r+1), 1)\n",
    "    return numer // denom "
   ]
  },
  {
   "cell_type": "code",
   "execution_count": 72,
   "metadata": {},
   "outputs": [],
   "source": [
    "def inner_for_sum(n_prev, N, m, sum_prev = 0, Nth = 0):\n",
    "    Nth = Nth + 1\n",
    "    if (Nth == N):\n",
    "            sum_this = 1\n",
    "        else:\n",
    "            sum_this = 0\n",
    "    \n",
    "    for i in range(0, n_prev + 1):\n",
    "        n_this = i\n",
    "        #Check the order of for loop\n",
    "        print(Nth)\n",
    "        if (Nth != N):\n",
    "            sum_this = inner_for_sum(n_this, N, m, sum_this, Nth)\n",
    "                    \n",
    "        #Main calc\n",
    "        mu = gamma_kg(n_this, m)\n",
    "        term = ncr(n_prev, n_this)\n",
    "        sum_prev = sum_prev + sum_this * mu * term\n",
    "    \n",
    "    return sum_prev      "
   ]
  },
  {
   "cell_type": "code",
   "execution_count": 95,
   "metadata": {},
   "outputs": [],
   "source": [
    "def inner_for_sum(n_prev, N, m, sum_prev = 0, Nth = 0):\n",
    "    Nth = Nth + 1\n",
    "    \n",
    "    for i in range(0, n_prev + 1):\n",
    "        n_this = i\n",
    "        print(i)\n",
    "        #Check the order of for loop\n",
    "        if (Nth == N - 1):\n",
    "            sum_this = 1\n",
    "            mu = gamma_kg(n_this, m)\n",
    "            term = ncr(n_prev, n_this)\n",
    "            sum_prev = sum_prev + sum_this * mu * term\n",
    "        else:\n",
    "            sum_this = 0\n",
    "            sum_this = inner_for_sum(n_this, N, m, sum_this, Nth)\n",
    "        \n",
    "    if (Nth != N - 1):\n",
    "        #Main calc\n",
    "        mu = gamma_kg(n_this, m)\n",
    "        term = ncr(n_prev, n_this)\n",
    "        sum_prev = sum_prev + sum_this * mu * term\n",
    "    \n",
    "    return sum_prev        "
   ]
  },
  {
   "cell_type": "code",
   "execution_count": 96,
   "metadata": {},
   "outputs": [
    {
     "name": "stdout",
     "output_type": "stream",
     "text": [
      "0\n",
      "0\n",
      "0\n",
      "1\n",
      "0\n",
      "0\n",
      "1\n",
      "0\n",
      "1\n"
     ]
    },
    {
     "data": {
      "text/plain": [
       "1.1013233481977698"
      ]
     },
     "execution_count": 96,
     "metadata": {},
     "output_type": "execute_result"
    }
   ],
   "source": [
    "inner_for_sum(1, 4, 1)"
   ]
  }
 ],
 "metadata": {
  "kernelspec": {
   "display_name": "Python 3",
   "language": "python",
   "name": "python3"
  },
  "language_info": {
   "codemirror_mode": {
    "name": "ipython",
    "version": 3
   },
   "file_extension": ".py",
   "mimetype": "text/x-python",
   "name": "python",
   "nbconvert_exporter": "python",
   "pygments_lexer": "ipython3",
   "version": "3.6.5"
  }
 },
 "nbformat": 4,
 "nbformat_minor": 2
}