{
 "cells": [
  {
   "cell_type": "code",
   "execution_count": 3,
   "metadata": {},
   "outputs": [],
   "source": [
    "import math\n",
    "\n",
    "def gamma_kg(nn, m):\n",
    "    mom1 = (math.gamma(m+nn/2))/(math.gamma(m))*(1/m)**(nn/2)*(math.gamma(m+nn/2))/(math.gamma(m))*(1/m)**(nn/2)\n",
    "    return mom1"
   ]
  },
  {
   "cell_type": "code",
   "execution_count": 4,
   "metadata": {},
   "outputs": [],
   "source": [
    "import operator as op\n",
    "from functools import reduce\n",
    "\n",
    "def ncr(n, r):\n",
    "    r = min(r, n-r)\n",
    "    numer = reduce(op.mul, range(n, n-r, -1), 1)\n",
    "    denom = reduce(op.mul, range(1, r+1), 1)\n",
    "    return numer // denom "
   ]
  },
  {
   "cell_type": "code",
   "execution_count": 17,
   "metadata": {},
   "outputs": [],
   "source": [
    "def inner_for_sum(n_prev, N, m, sum_prev = 0, Nth = 0):\n",
    "    Nth = Nth + 1\n",
    "    \n",
    "    for i in range(0, n_prev + 1):\n",
    "        n_this = i\n",
    "        #print(Nth)\n",
    "        #Check the order of the loop\n",
    "        if (Nth == N - 1):\n",
    "            sum_this = 1\n",
    "            mu = gamma_kg(n_this, m)\n",
    "            term = ncr(n_prev, n_this)\n",
    "            sum_prev = sum_prev + sum_this * mu * term\n",
    "        else:\n",
    "            sum_this = 0\n",
    "            sum_this = inner_for_sum(n_this, N, m, sum_this, Nth)\n",
    "            #Main calc\n",
    "            mu = gamma_kg(n_prev - n_this, m)\n",
    "            term = ncr(n_prev, n_this)\n",
    "            sum_prev = sum_prev + sum_this * mu * term\n",
    "        \n",
    "    return sum_prev        "
   ]
  },
  {
   "cell_type": "code",
   "execution_count": 18,
   "metadata": {},
   "outputs": [
    {
     "data": {
      "text/plain": [
       "5841.675264909047"
      ]
     },
     "execution_count": 18,
     "metadata": {},
     "output_type": "execute_result"
    }
   ],
   "source": [
    "inner_for_sum(6, 4, 1)"
   ]
  },
  {
   "cell_type": "code",
   "execution_count": 19,
   "metadata": {},
   "outputs": [
    {
     "data": {
      "text/plain": [
       "347089602.76360315"
      ]
     },
     "execution_count": 19,
     "metadata": {},
     "output_type": "execute_result"
    }
   ],
   "source": [
    "inner_for_sum(6, 32, 1)"
   ]
  }
 ],
 "metadata": {
  "kernelspec": {
   "display_name": "Python 3.8 (XPython)",
   "language": "python",
   "name": "xpython"
  },
  "language_info": {
   "file_extension": ".py",
   "mimetype": "text/x-python",
   "name": "python",
   "version": "3.8.5"
  }
 },
 "nbformat": 4,
 "nbformat_minor": 4
}
