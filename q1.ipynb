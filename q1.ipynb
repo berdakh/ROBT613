{
 "cells": [
  {
   "cell_type": "markdown",
   "metadata": {},
   "source": [
    "[![Open In Colab](https://colab.research.google.com/assets/colab-badge.svg)](https://colab.research.google.com/github/berdakh/ROBT613/blob/master/q1.ipynb)\n"
   ]
  },
  {
   "cell_type": "markdown",
   "metadata": {},
   "source": [
    "## Write Your name"
   ]
  },
  {
   "cell_type": "code",
   "execution_count": null,
   "metadata": {
    "slideshow": {
     "slide_type": "-"
    }
   },
   "outputs": [],
   "source": [
    "%matplotlib inline\n",
    "# %matplotlib qt\n",
    "# %matplotlib notebook"
   ]
  },
  {
   "cell_type": "markdown",
   "metadata": {},
   "source": [
    "# Part #1"
   ]
  },
  {
   "cell_type": "markdown",
   "metadata": {
    "slideshow": {
     "slide_type": "slide"
    }
   },
   "source": [
    "\n",
    "\n",
    "The [Raw](https://martinos.org/mne/stable/generated/mne.io.Raw.html) data structure: continuous data\n",
    "=============================================================\n",
    "\n",
    "Continuous data is stored in objects of type [Raw](https://martinos.org/mne/stable/generated/mne.io.Raw.html).\n",
    "The core data structure is simply a 2D numpy array (channels × samples)\n",
    "(in memory or loaded on demand) combined with an\n",
    "[Info](https://martinos.org/mne/stable/generated/mne.Info.html#mne.Info) object (`.info` attribute)\n",
    "(see [The Info data structure](https://martinos.org/mne/stable/auto_tutorials/plot_info.html#tut-info-objects)).\n",
    "\n"
   ]
  },
  {
   "cell_type": "markdown",
   "metadata": {
    "slideshow": {
     "slide_type": "slide"
    }
   },
   "source": [
    "Loading continuous data\n",
    "-----------------------\n",
    "\n",
    "The most common way to load continuous data is from a .fif file. For more\n",
    "information on [loading data from other formats](https://martinos.org/mne/stable/manual/io.html#ch-convert), or\n",
    "creating it [from scratch](https://martinos.org/mne/stable/auto_tutorials/plot_creating_data_structures.html#tut-creating-data-structures).\n",
    "\n",
    "Load an example dataset, the preload flag loads the data into memory now:\n",
    "\n"
   ]
  },
  {
   "cell_type": "code",
   "execution_count": null,
   "metadata": {
    "slideshow": {
     "slide_type": "fragment"
    }
   },
   "outputs": [],
   "source": [
    "import mne\n",
    "import os.path as op\n",
    "from matplotlib import pyplot as plt"
   ]
  },
  {
   "cell_type": "code",
   "execution_count": null,
   "metadata": {
    "slideshow": {
     "slide_type": "fragment"
    }
   },
   "outputs": [],
   "source": [
    "data_path = op.join(mne.datasets.sample.data_path(), 'MEG',\n",
    "                    'sample', 'sample_audvis_raw.fif')\n",
    "                    \n",
    "raw = mne.io.read_raw_fif(data_path, preload=True)\n",
    "raw.set_eeg_reference('average', projection=True)  # set EEG average reference"
   ]
  },
  {
   "cell_type": "code",
   "execution_count": null,
   "metadata": {
    "slideshow": {
     "slide_type": "subslide"
    }
   },
   "outputs": [],
   "source": [
    "# Give the sample rate\n",
    "print('sample rate:', raw.info['sfreq'], 'Hz')\n",
    "# Give the size of the data matrix\n",
    "print('%s channels x %s samples' % (len(raw), len(raw.times)))"
   ]
  },
  {
   "cell_type": "markdown",
   "metadata": {
    "slideshow": {
     "slide_type": "fragment"
    }
   },
   "source": [
    "**Note:**\n",
    "This size can also be obtained by examining `raw._data.shape`.\n",
    "However this is a private attribute as its name starts\n",
    "with an `_`. This suggests that you should **not** access this\n",
    "variable directly but rely on indexing syntax detailed just below."
   ]
  },
  {
   "cell_type": "markdown",
   "metadata": {
    "slideshow": {
     "slide_type": "skip"
    }
   },
   "source": [
    "Information about the channels contained in the [Raw](https://martinos.org/mne/stable/generated/mne.io.Raw.html)\n",
    "object is contained in the [Info](https://martinos.org/mne/stable/generated/mne.Info.html#mne.Info) attribute.\n",
    "This is essentially a dictionary with a number of relevant fields (see\n",
    "[The Info data structure](https://martinos.org/mne/stable/auto_tutorials/plot_info.html#tut-info-objects)).\n",
    "\n"
   ]
  },
  {
   "cell_type": "markdown",
   "metadata": {
    "slideshow": {
     "slide_type": "slide"
    }
   },
   "source": [
    "Indexing data\n",
    "-------------\n",
    "\n",
    "To access the data stored within [Raw]((https://martinos.org/mne/stable/generated/mne.io.Raw.html)) objects,\n",
    "it is possible to index the [Raw](https://martinos.org/mne/stable/generated/mne.io.Raw.html) object.\n",
    "\n",
    "Indexing a [Raw](https://martinos.org/mne/stable/generated/mne.io.Raw.html) object will \n",
    "return two arrays: \n",
    "* an array of times, \n",
    "* the data representing those timepoints. \n",
    "    \n",
    "This works even if the data is _not preloaded_, in which case the data will be\n",
    "read from disk when indexing.\n"
   ]
  },
  {
   "cell_type": "code",
   "execution_count": null,
   "metadata": {
    "slideshow": {
     "slide_type": "subslide"
    }
   },
   "outputs": [],
   "source": [
    "# Extract data from the first 5 channels, from 1 s to 3 s.\n",
    "sfreq = raw.info['sfreq']\n",
    "data, times = raw[:5, int(sfreq * 1):int(sfreq * 3)]\n",
    "_ = plt.plot(times, data.T)\n",
    "_ = plt.title('Sample channels')"
   ]
  },
  {
   "cell_type": "markdown",
   "metadata": {
    "slideshow": {
     "slide_type": "subslide"
    }
   },
   "source": [
    "Selecting subsets of channels and samples\n",
    "-----------------------------------------\n",
    "\n",
    "It is possible to use more intelligent indexing to extract data, using\n",
    "channel names, types or time ranges."
   ]
  },
  {
   "cell_type": "markdown",
   "metadata": {
    "slideshow": {
     "slide_type": "fragment"
    }
   },
   "source": [
    "Pull all MEG gradiometer channels:\n",
    "Make sure to use .copy() or it will overwrite the data"
   ]
  },
  {
   "cell_type": "code",
   "execution_count": null,
   "metadata": {
    "slideshow": {
     "slide_type": "-"
    }
   },
   "outputs": [],
   "source": [
    "meg_only = raw.copy().pick_types(meg=True)\n",
    "eeg_only = raw.copy().pick_types(meg=False, eeg=True)"
   ]
  },
  {
   "cell_type": "markdown",
   "metadata": {
    "slideshow": {
     "slide_type": "subslide"
    }
   },
   "source": [
    "The MEG flag in particular lets you specify a string for more specificity"
   ]
  },
  {
   "cell_type": "code",
   "execution_count": null,
   "metadata": {
    "slideshow": {
     "slide_type": "-"
    }
   },
   "outputs": [],
   "source": [
    "grad_only = raw.copy().pick_types(meg='grad')"
   ]
  },
  {
   "cell_type": "markdown",
   "metadata": {
    "slideshow": {
     "slide_type": "fragment"
    }
   },
   "source": [
    "Or you can use custom channel names"
   ]
  },
  {
   "cell_type": "code",
   "execution_count": null,
   "metadata": {
    "slideshow": {
     "slide_type": "-"
    }
   },
   "outputs": [],
   "source": [
    "pick_chans = ['MEG 0112', 'MEG 0111', 'MEG 0122', 'MEG 0123']\n",
    "specific_chans = raw.copy().pick_channels(pick_chans)\n",
    "print(meg_only)\n",
    "print(eeg_only)\n",
    "print(grad_only)\n",
    "print(specific_chans)"
   ]
  },
  {
   "cell_type": "markdown",
   "metadata": {
    "slideshow": {
     "slide_type": "subslide"
    }
   },
   "source": [
    "Notice the different scalings of these types\n",
    "\n"
   ]
  },
  {
   "cell_type": "code",
   "execution_count": null,
   "metadata": {
    "slideshow": {
     "slide_type": "-"
    }
   },
   "outputs": [],
   "source": [
    "f, (a1, a2) = plt.subplots(2, 1)\n",
    "eeg, times = eeg_only[0, :int(sfreq * 2)]\n",
    "meg, times = meg_only[0, :int(sfreq * 2)]\n",
    "a1.plot(times, meg[0])\n",
    "a2.plot(times, eeg[0])\n",
    "del eeg, meg, meg_only, grad_only, eeg_only, data, specific_chans"
   ]
  },
  {
   "cell_type": "markdown",
   "metadata": {
    "slideshow": {
     "slide_type": "subslide"
    }
   },
   "source": [
    "You can restrict the data to a specific time range\n",
    "\n"
   ]
  },
  {
   "cell_type": "code",
   "execution_count": null,
   "metadata": {
    "slideshow": {
     "slide_type": "-"
    }
   },
   "outputs": [],
   "source": [
    "raw = raw.crop(0, 50)  # in seconds\n",
    "print('New time range from', raw.times.min(), 's to', raw.times.max(), 's')"
   ]
  },
  {
   "cell_type": "markdown",
   "metadata": {
    "slideshow": {
     "slide_type": "fragment"
    }
   },
   "source": [
    "And drop channels by name\n",
    "\n"
   ]
  },
  {
   "cell_type": "code",
   "execution_count": null,
   "metadata": {
    "slideshow": {
     "slide_type": "-"
    }
   },
   "outputs": [],
   "source": [
    "nchan = raw.info['nchan']\n",
    "raw = raw.drop_channels(['MEG 0241', 'EEG 001'])\n",
    "print('Number of channels reduced from', nchan, 'to', raw.info['nchan'])"
   ]
  },
  {
   "cell_type": "markdown",
   "metadata": {
    "slideshow": {
     "slide_type": "slide"
    }
   },
   "source": [
    "Concatenating  [Raw](https://martinos.org/mne/stable/generated/mne.io.Raw.html) objects\n",
    "--------------------------------------------------\n",
    "\n",
    "[Raw](https://martinos.org/mne/stable/generated/mne.io.Raw.html) objects can be concatenated in time by using the\n",
    "[raw.append](https://martinos.org/mne/dev/generated/mne.io.Raw.html#mne.io.Raw.append) function. For this to work, they must have the same number of channels and their [Info](https://martinos.org/mne/stable/generated/mne.Info.html#mne.Info) structures should be compatible.\n",
    "\n"
   ]
  },
  {
   "cell_type": "code",
   "execution_count": null,
   "metadata": {
    "slideshow": {
     "slide_type": "fragment"
    }
   },
   "outputs": [],
   "source": [
    "# Create multiple Raw objects\n",
    "raw1 = raw.copy().crop(0, 10)\n",
    "raw2 = raw.copy().crop(10, 20)\n",
    "raw3 = raw.copy().crop(20, 40)\n",
    "\n",
    "# Concatenate in time (also works without preloading)\n",
    "raw1.append([raw2, raw3])\n",
    "print('Time extends from', raw1.times.min(), 's to', raw1.times.max(), 's')"
   ]
  },
  {
   "cell_type": "markdown",
   "metadata": {
    "slideshow": {
     "slide_type": "slide"
    }
   },
   "source": [
    "Visualizing Raw data\n",
    "--------------------\n",
    "All of the plotting method names start with `plot`. If you’re using IPython console, you can just\n",
    "write `raw.plot` and ask the interpreter for suggestions with a tab key.\n",
    "\n",
    "To visually inspect your raw data, you can use:"
   ]
  },
  {
   "cell_type": "code",
   "execution_count": null,
   "metadata": {
    "slideshow": {
     "slide_type": "fragment"
    }
   },
   "outputs": [],
   "source": [
    "raw.plot(block=True, lowpass=40);"
   ]
  },
  {
   "cell_type": "markdown",
   "metadata": {
    "slideshow": {
     "slide_type": "fragment"
    }
   },
   "source": [
    "The channels are color coded by channel type. \n",
    "* MEG = blue, EEG = black\n",
    "* Bad channels on scrollbar color coded gray. \n",
    "* Clicking the lines or channel names on the left, to mark or unmark a bad channel interactively. \n",
    "* +/- keys to adjust the scale (also = works for magnifying the data).\n",
    "* Initial scaling factors can be set with parameter `scalings`. \n",
    "* If you don’t know the scaling factor for channels, you can automatically set them by passing scalings=’auto’. \n",
    "* With `pageup/pagedown` and `home/end` keys you can adjust the amount of data viewed at once."
   ]
  },
  {
   "cell_type": "markdown",
   "metadata": {
    "slideshow": {
     "slide_type": "subslide"
    }
   },
   "source": [
    "We can also plot the PSD to inspect:\n",
    "* Power line\n",
    "* Bad channels\n",
    "* Head position indicator coils\n",
    "* Whether data is filtered or not"
   ]
  },
  {
   "cell_type": "code",
   "execution_count": null,
   "metadata": {
    "slideshow": {
     "slide_type": "subslide"
    }
   },
   "outputs": [],
   "source": [
    "fig, ax = plt.subplots(1, 1)\n",
    "raw.copy().pick_types(meg='mag').plot_psd(spatial_colors=False, show=False,\n",
    "                                          ax=ax);\n",
    "for freq in [60., 120., 180.]:\n",
    "    ax.axvline(freq, linestyle='--', alpha=0.6)"
   ]
  },
  {
   "cell_type": "markdown",
   "metadata": {
    "slideshow": {
     "slide_type": "slide"
    }
   },
   "source": [
    "Exercises\n",
    "--------------\n",
    "\n",
    "1) Quite often the EOG channel is not marked correctly in the raw data. You may need to rename it. Can you figure out how to do this?"
   ]
  },
  {
   "cell_type": "code",
   "execution_count": null,
   "metadata": {
    "slideshow": {
     "slide_type": "fragment"
    }
   },
   "outputs": [],
   "source": [
    "# your code here"
   ]
  },
  {
   "cell_type": "markdown",
   "metadata": {
    "slideshow": {
     "slide_type": "subslide"
    }
   },
   "source": [
    "2) How will you check that at least one EEG channel exists in the data?"
   ]
  },
  {
   "cell_type": "code",
   "execution_count": null,
   "metadata": {
    "slideshow": {
     "slide_type": "-"
    }
   },
   "outputs": [],
   "source": [
    "# your code here"
   ]
  },
  {
   "cell_type": "markdown",
   "metadata": {
    "slideshow": {
     "slide_type": "subslide"
    }
   },
   "source": [
    "3) Can you plot the data in the trigger channel?\n",
    "\n"
   ]
  },
  {
   "cell_type": "code",
   "execution_count": null,
   "metadata": {
    "slideshow": {
     "slide_type": "-"
    }
   },
   "outputs": [],
   "source": [
    "from mne import pick_types\n",
    "import matplotlib.pyplot as plt\n",
    "\n",
    "# your code here"
   ]
  },
  {
   "cell_type": "markdown",
   "metadata": {},
   "source": [
    "4) Can you identify bad noisy blocks and Bad channels in the data? "
   ]
  },
  {
   "cell_type": "code",
   "execution_count": null,
   "metadata": {},
   "outputs": [],
   "source": [
    "# your code here"
   ]
  },
  {
   "cell_type": "markdown",
   "metadata": {},
   "source": [
    "5) Can you identify Low-frequency drifts and powerline related noise and show?  "
   ]
  },
  {
   "cell_type": "code",
   "execution_count": null,
   "metadata": {},
   "outputs": [],
   "source": [
    "# your code here"
   ]
  },
  {
   "cell_type": "markdown",
   "metadata": {
    "slideshow": {
     "slide_type": "slide"
    }
   },
   "source": [
    "# Part #2\n",
    "\n",
    "The [mne.Epochs](https://martinos.org/mne/dev/generated/mne.Epochs.html) data structure: epoched data\n",
    "=============================================================\n",
    "\n",
    "[Epochs](https://martinos.org/mne/dev/generated/mne.Epochs.html) objects are a way of representing continuous\n",
    "data as a collection of time-locked trials, stored in an array of shape\n",
    "``(n_events, n_channels, n_times)``. They are useful for many statistical\n",
    "methods in neuroscience, and make it easy to quickly overview what occurs\n",
    "during a trial.\n",
    "\n"
   ]
  },
  {
   "cell_type": "markdown",
   "metadata": {
    "slideshow": {
     "slide_type": "slide"
    }
   },
   "source": [
    "Creating epochs\n",
    "=============\n",
    "\n",
    "[Epochs](https://martinos.org/mne/dev/generated/mne.Epochs.html) objects can be created in three ways:\n",
    " 1. From a [Raw](https://martinos.org/mne/stable/generated/mne.io.Raw.html) object, along with event times\n",
    " 2. From an [Epochs](https://martinos.org/mne/dev/generated/mne.Epochs.html) object that has been saved as a\n",
    "    `.fif` file\n",
    " 3. From scratch using [EpochsArray](https://martinos.org/mne/dev/generated/mne.EpochsArray.html#mne.EpochsArray). See\n",
    "    [Creating MNE's data structures from scratch](https://martinos.org/mne/stable/auto_tutorials/plot_creating_data_structures.html#tut-creating-data-structures)\n",
    "\n"
   ]
  },
  {
   "cell_type": "markdown",
   "metadata": {
    "slideshow": {
     "slide_type": "subslide"
    }
   },
   "source": [
    "Import packages"
   ]
  },
  {
   "cell_type": "code",
   "execution_count": null,
   "metadata": {
    "slideshow": {
     "slide_type": "-"
    }
   },
   "outputs": [],
   "source": [
    "import mne\n",
    "import os.path as op\n",
    "import numpy as np\n",
    "from matplotlib import pyplot as plt"
   ]
  },
  {
   "cell_type": "markdown",
   "metadata": {
    "slideshow": {
     "slide_type": "subslide"
    }
   },
   "source": [
    "Then, we will load the data"
   ]
  },
  {
   "cell_type": "code",
   "execution_count": null,
   "metadata": {
    "slideshow": {
     "slide_type": "-"
    }
   },
   "outputs": [],
   "source": [
    "data_path = mne.datasets.sample.data_path()\n",
    "# Load a dataset that contains events\n",
    "raw = mne.io.read_raw_fif(\n",
    "    op.join(data_path, 'MEG', 'sample', 'sample_audvis_raw.fif'))"
   ]
  },
  {
   "cell_type": "markdown",
   "metadata": {
    "slideshow": {
     "slide_type": "subslide"
    }
   },
   "source": [
    "Extract events\n",
    "--------------"
   ]
  },
  {
   "cell_type": "code",
   "execution_count": null,
   "metadata": {
    "slideshow": {
     "slide_type": "fragment"
    }
   },
   "outputs": [],
   "source": [
    "# If your raw object has a stim channel, you can construct an event array\n",
    "# easily\n",
    "events = mne.find_events(raw, stim_channel='STI 014')"
   ]
  },
  {
   "cell_type": "markdown",
   "metadata": {
    "slideshow": {
     "slide_type": "subslide"
    }
   },
   "source": [
    "Look at the first 5 events (onset, value before event, event id):"
   ]
  },
  {
   "cell_type": "code",
   "execution_count": null,
   "metadata": {
    "slideshow": {
     "slide_type": "-"
    }
   },
   "outputs": [],
   "source": [
    "print(events[:5])"
   ]
  },
  {
   "cell_type": "markdown",
   "metadata": {
    "slideshow": {
     "slide_type": "subslide"
    }
   },
   "source": [
    "We can plot the events"
   ]
  },
  {
   "cell_type": "code",
   "execution_count": null,
   "metadata": {
    "slideshow": {
     "slide_type": "-"
    }
   },
   "outputs": [],
   "source": [
    "mne.viz.plot_events(events, sfreq=raw.info['sfreq']);"
   ]
  },
  {
   "cell_type": "markdown",
   "metadata": {
    "slideshow": {
     "slide_type": "subslide"
    }
   },
   "source": [
    "Specify event codes of interest with descriptive labels."
   ]
  },
  {
   "cell_type": "code",
   "execution_count": null,
   "metadata": {
    "slideshow": {
     "slide_type": "-"
    }
   },
   "outputs": [],
   "source": [
    "# This dataset also has visual left (3) and right (4) events, but\n",
    "# to save time and memory we'll just look at the auditory conditions\n",
    "# for now.\n",
    "event_id = {'Auditory/Left': 1, 'Auditory/Right': 2}"
   ]
  },
  {
   "cell_type": "markdown",
   "metadata": {
    "slideshow": {
     "slide_type": "fragment"
    }
   },
   "source": [
    "Expose the raw data as epochs, cut from -0.1 s to 1.0 s relative to the event\n",
    "onsets\n",
    "\n"
   ]
  },
  {
   "cell_type": "code",
   "execution_count": null,
   "metadata": {
    "slideshow": {
     "slide_type": "-"
    }
   },
   "outputs": [],
   "source": [
    "epochs = mne.Epochs(raw, events, event_id, tmin=-0.1, tmax=1,\n",
    "                    baseline=(None, 0), preload=True)\n",
    "print(epochs)"
   ]
  },
  {
   "cell_type": "markdown",
   "metadata": {
    "slideshow": {
     "slide_type": "skip"
    }
   },
   "source": [
    "Note that epochs constructed in this manner will not have their\n",
    "data available until explicitly read into memory, which you can do with\n",
    "[get_data](https://martinos.org/mne/dev/generated/mne.Epochs.html#mne.Epochs.get_data). Alternatively, you can use\n",
    "`preload=True`."
   ]
  },
  {
   "cell_type": "markdown",
   "metadata": {
    "slideshow": {
     "slide_type": "subslide"
    }
   },
   "source": [
    "Epochs behave similarly to [`mne.io.Raw`](https://martinos.org/mne/dev/generated/mne.io.Raw.html#mne.io.Raw) objects. They have an\n",
    "[`info`](https://martinos.org/mne/dev/generated/mne.Info.html#mne.Info) attribute that has all of the same\n",
    "information, as well as a number of attributes unique to the events contained\n",
    "within the object.\n",
    "\n"
   ]
  },
  {
   "cell_type": "code",
   "execution_count": null,
   "metadata": {
    "slideshow": {
     "slide_type": "fragment"
    }
   },
   "outputs": [],
   "source": [
    "print(epochs.events[:3])\n",
    "print(epochs.event_id)"
   ]
  },
  {
   "cell_type": "markdown",
   "metadata": {
    "slideshow": {
     "slide_type": "slide"
    }
   },
   "source": [
    "Indexing epochs\n",
    "============="
   ]
  },
  {
   "cell_type": "markdown",
   "metadata": {
    "slideshow": {
     "slide_type": "skip"
    }
   },
   "source": [
    "You can select subsets of epochs by indexing the [Epochs](https://martinos.org/mne/dev/generated/mne.Epochs.html) \n",
    "object directly. Alternatively, if you have epoch names specified in\n",
    "`event_id` then you may index with strings instead.\n"
   ]
  },
  {
   "cell_type": "code",
   "execution_count": null,
   "metadata": {
    "slideshow": {
     "slide_type": "-"
    }
   },
   "outputs": [],
   "source": [
    "print(epochs[1:5])\n",
    "print(epochs['Auditory/Right'])"
   ]
  },
  {
   "cell_type": "markdown",
   "metadata": {
    "slideshow": {
     "slide_type": "subslide"
    }
   },
   "source": [
    "Note the '/'s in the event code labels. These separators allow tag-based\n",
    "selection of epoch sets; \n",
    "\n",
    "Every string separated by '/' can be entered, and\n",
    "returns the subset of epochs matching any of the strings. E.g.,\n",
    "\n"
   ]
  },
  {
   "cell_type": "code",
   "execution_count": null,
   "metadata": {
    "slideshow": {
     "slide_type": "subslide"
    }
   },
   "outputs": [],
   "source": [
    "print(epochs['Right'])\n",
    "print(epochs['Right', 'Left'])"
   ]
  },
  {
   "cell_type": "code",
   "execution_count": null,
   "metadata": {
    "slideshow": {
     "slide_type": "fragment"
    }
   },
   "outputs": [],
   "source": [
    "print(epochs['Auditory'])"
   ]
  },
  {
   "cell_type": "markdown",
   "metadata": {
    "slideshow": {
     "slide_type": "subslide"
    }
   },
   "source": [
    "Note that MNE will not complain if you ask for tags not present in the\n",
    "object, as long as it can find some match: the below example is parsed as\n",
    "(inclusive) 'Right' OR 'Left'. However, if no match is found, an error is\n",
    "returned.\n",
    "\n"
   ]
  },
  {
   "cell_type": "code",
   "execution_count": null,
   "metadata": {
    "slideshow": {
     "slide_type": "fragment"
    }
   },
   "outputs": [],
   "source": [
    "epochs_r = epochs['Right']\n",
    "epochs_still_only_r = epochs_r[['Right', 'Left']]\n",
    "print(epochs_still_only_r)\n",
    "\n",
    "try:\n",
    "    epochs_still_only_r[\"Left\"]\n",
    "except KeyError: \n",
    "    print(\"Tag-based selection without any matches raises a KeyError!\")"
   ]
  },
  {
   "cell_type": "markdown",
   "metadata": {
    "slideshow": {
     "slide_type": "subslide"
    }
   },
   "source": [
    "It is also possible to iterate through [`Epochs`](https://martinos.org/mne/stable/generated/mne.Epochs.html#mne.Epochs) objects\n",
    "in this way. Note that behavior is different if you iterate on `Epochs`\n",
    "directly rather than indexing:\n",
    "\n"
   ]
  },
  {
   "cell_type": "code",
   "execution_count": null,
   "metadata": {
    "slideshow": {
     "slide_type": "fragment"
    }
   },
   "outputs": [],
   "source": [
    "# These will be epochs objects\n",
    "for i in range(3):\n",
    "    print(epochs[i])\n",
    "\n",
    "# These will be arrays\n",
    "for ep in epochs[:2]:\n",
    "    print(ep)"
   ]
  },
  {
   "cell_type": "markdown",
   "metadata": {
    "slideshow": {
     "slide_type": "slide"
    }
   },
   "source": [
    "Dropping epochs\n",
    "-------------------------\n",
    "\n",
    "* Manually by using [epochs.drop(idx)](https://martinos.org/mne/stable/generated/mne.Epochs.html#mne.Epochs.drop), \n",
    "* Using rejection or flat thresholds with [epochs.drop_bad(reject, flat)](https://martinos.org/mne/stable/generated/mne.Epochs.html#mne.Epochs.drop_bad)."
   ]
  },
  {
   "cell_type": "code",
   "execution_count": null,
   "metadata": {
    "slideshow": {
     "slide_type": "fragment"
    }
   },
   "outputs": [],
   "source": [
    "epochs.drop([0], reason='User reason')\n",
    "epochs.drop_bad(reject=dict(grad=2500e-13, mag=4e-12, eog=200e-6), flat=None)"
   ]
  },
  {
   "cell_type": "markdown",
   "metadata": {
    "slideshow": {
     "slide_type": "subslide"
    }
   },
   "source": [
    "You can also inspect the reason why epochs were dropped."
   ]
  },
  {
   "cell_type": "code",
   "execution_count": null,
   "metadata": {
    "slideshow": {
     "slide_type": "fragment"
    }
   },
   "outputs": [],
   "source": [
    "print(epochs.drop_log);"
   ]
  },
  {
   "cell_type": "code",
   "execution_count": null,
   "metadata": {
    "slideshow": {
     "slide_type": "subslide"
    }
   },
   "outputs": [],
   "source": [
    "epochs.plot_drop_log();"
   ]
  },
  {
   "cell_type": "markdown",
   "metadata": {},
   "source": [
    "The indices from the original set of events are stored in ``epochs.selection``."
   ]
  },
  {
   "cell_type": "code",
   "execution_count": null,
   "metadata": {},
   "outputs": [],
   "source": [
    "print(epochs.selection)"
   ]
  },
  {
   "cell_type": "markdown",
   "metadata": {
    "slideshow": {
     "slide_type": "slide"
    }
   },
   "source": [
    "Input/Output\n",
    "------------------\n",
    "\n",
    "If you wish to save the epochs as a file, you can do it with\n",
    "[mne.Epochs.save](https://martinos.org/mne/stable/generated/mne.Epochs.html#mne.Epochs.save). To conform to MNE naming conventions, the\n",
    "epochs file names should end with '-epo.fif'.\n",
    "\n"
   ]
  },
  {
   "cell_type": "code",
   "execution_count": null,
   "metadata": {
    "slideshow": {
     "slide_type": "-"
    }
   },
   "outputs": [],
   "source": [
    "epochs_fname = op.join(data_path, 'MEG', 'sample', 'sample-epo.fif')\n",
    "epochs.save(epochs_fname)"
   ]
  },
  {
   "cell_type": "markdown",
   "metadata": {
    "slideshow": {
     "slide_type": "subslide"
    }
   },
   "source": [
    "Later on you can read the epochs with [`mne.read_epochs`](https://martinos.org/mne/dev/generated/mne.read_epochs.html#mne.read_epochs). For reading\n",
    "EEGLAB epochs files see [`mne.read_epochs_eeglab`](https://martinos.org/mne/dev/generated/mne.read_epochs_eeglab.html#mne.read_epochs_eeglab). We can also use\n",
    "``preload=False`` to save memory, loading the epochs from disk on demand.\n",
    "\n"
   ]
  },
  {
   "cell_type": "code",
   "execution_count": null,
   "metadata": {
    "slideshow": {
     "slide_type": "-"
    }
   },
   "outputs": [],
   "source": [
    "epochs = mne.read_epochs(epochs_fname, preload=False)"
   ]
  },
  {
   "cell_type": "markdown",
   "metadata": {
    "slideshow": {
     "slide_type": "slide"
    }
   },
   "source": [
    "If you wish to look at the average across trial types, then you may do so,\n",
    "creating an [`Evoked`](https://martinos.org/mne/dev/generated/mne.Evoked.html) object in the process. Instances\n",
    "of `Evoked` are usually created by calling [`mne.Epochs.average`](https://martinos.org/mne/stable/generated/mne.Epochs.html#mne.Epochs.average).\n",
    "\n"
   ]
  },
  {
   "cell_type": "code",
   "execution_count": null,
   "metadata": {
    "slideshow": {
     "slide_type": "-"
    }
   },
   "outputs": [],
   "source": [
    "ev_left = epochs['Auditory/Left'].average()\n",
    "ev_right = epochs['Auditory/Right'].average()\n",
    "\n",
    "f, axs = plt.subplots(3, 2, figsize=(10, 5))\n",
    "_ = f.suptitle('Left / Right auditory', fontsize=20)\n",
    "_ = ev_left.plot(axes=axs[:, 0], show=False, time_unit='s')\n",
    "_ = ev_right.plot(axes=axs[:, 1], show=False, time_unit='s')\n",
    "plt.tight_layout()"
   ]
  },
  {
   "cell_type": "markdown",
   "metadata": {
    "slideshow": {
     "slide_type": "skip"
    }
   },
   "source": [
    "For creating `Evoked` from other data structures see [mne.EvokedArray](https://martinos.org/mne/stable/generated/mne.EvokedArray.html#mne.EvokedArray) and [Creating MNE's data structures from scratch](https://martinos.org/mne/dev/auto_tutorials/plot_creating_data_structures.html#tut-creating-data-structures).\n",
    "\n",
    "To export and manipulate Epochs using Pandas see\n",
    "[Export epochs to pandas dataframe](https://martinos.org/mne/stable/auto_tutorials/plot_epochs_to_data_frame.html#sphx-glr-auto-tutorials-plot-epochs-to-data-frame-py),\n",
    "or to work directly with metadata in MNE-Python see [Pandas querying and metadata with Epochs objects](https://martinos.org/mne/stable/auto_tutorials/plot_metadata_epochs.html#sphx-glr-auto-tutorials-plot-metadata-epochs-py)."
   ]
  },
  {
   "cell_type": "markdown",
   "metadata": {
    "slideshow": {
     "slide_type": "slide"
    }
   },
   "source": [
    "# Visualizing epochs data\n",
    "\n",
    "We can visualize epochs the same way as raw data"
   ]
  },
  {
   "cell_type": "code",
   "execution_count": null,
   "metadata": {
    "slideshow": {
     "slide_type": "fragment"
    }
   },
   "outputs": [],
   "source": [
    "epochs.plot(block=True, events=events);"
   ]
  },
  {
   "cell_type": "markdown",
   "metadata": {
    "slideshow": {
     "slide_type": "fragment"
    }
   },
   "source": [
    "We can mark bad epochs interactively and scroll through the data"
   ]
  },
  {
   "cell_type": "markdown",
   "metadata": {
    "slideshow": {
     "slide_type": "subslide"
    }
   },
   "source": [
    "It's also possible to plot a single epoch as an image"
   ]
  },
  {
   "cell_type": "code",
   "execution_count": null,
   "metadata": {
    "slideshow": {
     "slide_type": "-"
    }
   },
   "outputs": [],
   "source": [
    "epochs.plot_image(278, cmap='interactive', sigma=1., vmin=-400, vmax=400);"
   ]
  },
  {
   "cell_type": "markdown",
   "metadata": {
    "slideshow": {
     "slide_type": "slide"
    }
   },
   "source": [
    "Exercises\n",
    "--------------\n",
    "1) Can you find out the indices of the epochs that have been removed due to eyeblinks?"
   ]
  },
  {
   "cell_type": "code",
   "execution_count": null,
   "metadata": {
    "slideshow": {
     "slide_type": "-"
    }
   },
   "outputs": [],
   "source": [
    "epochs = mne.read_epochs(epochs_fname, preload=False)\n",
    "# your code here\n",
    "# print(idxs)"
   ]
  },
  {
   "cell_type": "markdown",
   "metadata": {
    "slideshow": {
     "slide_type": "subslide"
    }
   },
   "source": [
    "2) Can you find the indices of channels corresponding to `EOG 061`?"
   ]
  },
  {
   "cell_type": "code",
   "execution_count": null,
   "metadata": {
    "slideshow": {
     "slide_type": "-"
    }
   },
   "outputs": [],
   "source": [
    "# your code here\n",
    "# print(epochs.info['ch_names'][picks])"
   ]
  },
  {
   "cell_type": "markdown",
   "metadata": {
    "slideshow": {
     "slide_type": "fragment"
    }
   },
   "source": [
    "3) Can you plot the EOG channel for these epochs and verify that these do indeed contain eyeblinks?"
   ]
  },
  {
   "cell_type": "code",
   "execution_count": null,
   "metadata": {
    "slideshow": {
     "slide_type": "-"
    }
   },
   "outputs": [],
   "source": [
    "# your code here"
   ]
  },
  {
   "cell_type": "code",
   "execution_count": null,
   "metadata": {},
   "outputs": [],
   "source": []
  },
  {
   "cell_type": "markdown",
   "metadata": {
    "slideshow": {
     "slide_type": "skip"
    }
   },
   "source": [
    "# Part #3\n"
   ]
  },
  {
   "cell_type": "markdown",
   "metadata": {
    "slideshow": {
     "slide_type": "slide"
    }
   },
   "source": [
    "\n",
    "\n",
    "The [mne.Evoked](https://martinos.org/mne/dev/generated/mne.Evoked.html) data structure: evoked/averaged data\n",
    "=====================================================================\n",
    "\n",
    "The [`mne.Evoked`](https://martinos.org/mne/dev/generated/mne.Evoked.html) data structure is mainly used for storing\n",
    "averageddata over trials. In MNE the evoked objects are usually created by\n",
    "averaging epochs data with [`mne.Epochs.average`](https://martinos.org/mne/dev/generated/mne.Epochs.html#mne.Epochs.average).\n",
    "\n"
   ]
  },
  {
   "cell_type": "code",
   "execution_count": null,
   "metadata": {
    "slideshow": {
     "slide_type": "slide"
    }
   },
   "outputs": [],
   "source": [
    "import os.path as op\n",
    "\n",
    "import mne"
   ]
  },
  {
   "cell_type": "markdown",
   "metadata": {
    "slideshow": {
     "slide_type": "fragment"
    }
   },
   "source": [
    "Here for convenience we read the evoked dataset from a file.\n",
    "\n"
   ]
  },
  {
   "cell_type": "code",
   "execution_count": null,
   "metadata": {
    "slideshow": {
     "slide_type": "fragment"
    }
   },
   "outputs": [],
   "source": [
    "data_path = mne.datasets.sample.data_path()\n",
    "fname = op.join(data_path, 'MEG', 'sample', 'sample_audvis-ave.fif')\n",
    "evokeds = mne.read_evokeds(fname, baseline=(None, 0), proj=True)\n",
    "print(evokeds)"
   ]
  },
  {
   "cell_type": "markdown",
   "metadata": {
    "slideshow": {
     "slide_type": "skip"
    }
   },
   "source": [
    "Notice that the reader function returned a list of evoked instances. This is\n",
    "because you can store multiple categories into a single file. Here we have\n",
    "categories of\n",
    "``['Left Auditory', 'Right Auditory', 'Left Visual', 'Right Visual']``.\n",
    "We can also use ``condition`` parameter to read in only one category.\n",
    "\n"
   ]
  },
  {
   "cell_type": "code",
   "execution_count": null,
   "metadata": {
    "slideshow": {
     "slide_type": "subslide"
    }
   },
   "outputs": [],
   "source": [
    "evoked = mne.read_evokeds(fname, condition='Left Auditory')\n",
    "evoked.apply_baseline((None, 0)).apply_proj()\n",
    "print(evoked)"
   ]
  },
  {
   "cell_type": "markdown",
   "metadata": {
    "slideshow": {
     "slide_type": "subslide"
    }
   },
   "source": [
    "The [Info](https://martinos.org/mne/stable/auto_tutorials/plot_info.html) attribute is also present here just as in raw and epochs.\n"
   ]
  },
  {
   "cell_type": "code",
   "execution_count": null,
   "metadata": {
    "slideshow": {
     "slide_type": "-"
    }
   },
   "outputs": [],
   "source": [
    "print(evoked.info)\n",
    "print(evoked.times)"
   ]
  },
  {
   "cell_type": "markdown",
   "metadata": {
    "slideshow": {
     "slide_type": "subslide"
    }
   },
   "source": [
    "The evoked data structure also contains some new attributes easily\n",
    "accessible:\n",
    "\n"
   ]
  },
  {
   "cell_type": "code",
   "execution_count": null,
   "metadata": {
    "slideshow": {
     "slide_type": "-"
    }
   },
   "outputs": [],
   "source": [
    "print(evoked.nave)  # Number of averaged epochs.\n",
    "print(evoked.first)  # First time sample.\n",
    "print(evoked.last)  # Last time sample.\n",
    "print(evoked.comment)  # Comment on dataset. Usually the condition.\n",
    "print(evoked.kind)  # Type of data, either average or standard_error."
   ]
  },
  {
   "cell_type": "markdown",
   "metadata": {
    "slideshow": {
     "slide_type": "subslide"
    }
   },
   "source": [
    "The data is also easily accessible. Since the evoked data arrays are usually\n",
    "much smaller than raw or epochs datasets, they are preloaded into the memory\n",
    "when the evoked object is constructed. You can access the data as a numpy\n",
    "array.\n",
    "\n"
   ]
  },
  {
   "cell_type": "code",
   "execution_count": null,
   "metadata": {
    "slideshow": {
     "slide_type": "-"
    }
   },
   "outputs": [],
   "source": [
    "data = evoked.data\n",
    "print(data.shape)"
   ]
  },
  {
   "cell_type": "markdown",
   "metadata": {
    "slideshow": {
     "slide_type": "subslide"
    }
   },
   "source": [
    "The data is arranged in an array of shape `(n_channels, n_times)`. Notice\n",
    "that unlike epochs, evoked object does not support indexing. This means that\n",
    "to access the data of a specific channel you must use the data array\n",
    "directly.\n",
    "\n"
   ]
  },
  {
   "cell_type": "code",
   "execution_count": null,
   "metadata": {
    "slideshow": {
     "slide_type": "-"
    }
   },
   "outputs": [],
   "source": [
    "print('Data from channel {0}:'.format(evoked.ch_names[10]))\n",
    "print(data[10])"
   ]
  },
  {
   "cell_type": "markdown",
   "metadata": {
    "slideshow": {
     "slide_type": "subslide"
    }
   },
   "source": [
    "If you want to import evoked data from some other system and you have it in a\n",
    "numpy array you can use [mne.EvokedArray](https://martinos.org/mne/stable/generated/mne.EvokedArray.html) for that. All you need is\n",
    "the data and some info about the evoked data. \n"
   ]
  },
  {
   "cell_type": "code",
   "execution_count": null,
   "metadata": {
    "slideshow": {
     "slide_type": "-"
    }
   },
   "outputs": [],
   "source": [
    "evoked = mne.EvokedArray(data, evoked.info, tmin=evoked.times[0])"
   ]
  },
  {
   "cell_type": "markdown",
   "metadata": {
    "slideshow": {
     "slide_type": "fragment"
    }
   },
   "source": [
    "\n",
    "For more information, see\n",
    "[Creating MNE's data structures from scratch](https://martinos.org/mne/stable/auto_tutorials/plot_creating_data_structures.html#tut-creating-data-structures)."
   ]
  },
  {
   "cell_type": "markdown",
   "metadata": {
    "slideshow": {
     "slide_type": "slide"
    }
   },
   "source": [
    "Visualization\n",
    "-------------\n",
    "\n",
    "We can plot the evoked response"
   ]
  },
  {
   "cell_type": "code",
   "execution_count": null,
   "metadata": {
    "slideshow": {
     "slide_type": "-"
    }
   },
   "outputs": [],
   "source": [
    "evoked.plot(time_unit='s', exclude=[]);"
   ]
  },
  {
   "cell_type": "markdown",
   "metadata": {
    "slideshow": {
     "slide_type": "subslide"
    }
   },
   "source": [
    "We can also plot the topographic map for some time instances"
   ]
  },
  {
   "cell_type": "code",
   "execution_count": null,
   "metadata": {
    "slideshow": {
     "slide_type": "-"
    }
   },
   "outputs": [],
   "source": [
    "evoked.plot_topomap();"
   ]
  },
  {
   "cell_type": "markdown",
   "metadata": {
    "slideshow": {
     "slide_type": "subslide"
    }
   },
   "source": [
    "Or even plot them both together ..."
   ]
  },
  {
   "cell_type": "code",
   "execution_count": null,
   "metadata": {
    "slideshow": {
     "slide_type": "-"
    }
   },
   "outputs": [],
   "source": [
    "evoked.copy().pick_types(meg='mag').plot_joint();"
   ]
  },
  {
   "cell_type": "markdown",
   "metadata": {
    "slideshow": {
     "slide_type": "subslide"
    }
   },
   "source": [
    "To contrast evokeds, we can do"
   ]
  },
  {
   "cell_type": "code",
   "execution_count": null,
   "metadata": {
    "slideshow": {
     "slide_type": "-"
    }
   },
   "outputs": [],
   "source": [
    "vmin, vmax =-120, 120\n",
    "evokeds[2].plot_topomap(vmin=vmin, vmax=vmax);\n",
    "evokeds[3].plot_topomap(vmin=vmin, vmax=vmax);\n",
    "contrast = mne.combine_evoked(evokeds[2:], weights=[1, -1])\n",
    "contrast.plot_topomap(vmin=vmin, vmax=vmax);"
   ]
  },
  {
   "cell_type": "markdown",
   "metadata": {
    "slideshow": {
     "slide_type": "slide"
    }
   },
   "source": [
    "Exercises\n",
    "--------------\n",
    "\n",
    "1) How will you save evoked data to disk?\n"
   ]
  },
  {
   "cell_type": "code",
   "execution_count": null,
   "metadata": {
    "slideshow": {
     "slide_type": "-"
    }
   },
   "outputs": [],
   "source": [
    "# your code here"
   ]
  },
  {
   "cell_type": "markdown",
   "metadata": {
    "slideshow": {
     "slide_type": "subslide"
    }
   },
   "source": [
    "2) Can you plot the topomap at 10 evenly spaced time instances?\n",
    "\n",
    "HINT: Use np.linspace"
   ]
  },
  {
   "cell_type": "code",
   "execution_count": null,
   "metadata": {
    "slideshow": {
     "slide_type": "-"
    }
   },
   "outputs": [],
   "source": [
    "# your code here"
   ]
  },
  {
   "cell_type": "markdown",
   "metadata": {},
   "source": [
    "3) Can you show all other possible visualization of evoked data? \n",
    "\n",
    "For instance: \n",
    "\n",
    "- Plot Joint\n",
    "- Plot sensors\n",
    "- Plot Image by the Region of Interest\n"
   ]
  },
  {
   "cell_type": "markdown",
   "metadata": {},
   "source": [
    "# Part #4\n"
   ]
  },
  {
   "cell_type": "markdown",
   "metadata": {
    "slideshow": {
     "slide_type": "slide"
    }
   },
   "source": [
    "\n",
    "\n",
    "The [`Info`](https://martinos.org/mne/stable/generated/mne.Info.html) data structure\n",
    "===========================================\n",
    "\n",
    "The [`Info`](https://martinos.org/mne/stable/generated/mne.Info.html) data object is typically created\n",
    "when data is imported into MNE-Python and contains details such as:\n",
    "\n",
    "- date, subject information, and other recording details\n",
    "- the sampling rate\n",
    "- information about the data channels (name, type, position, etc.)\n",
    "- digitized points\n",
    "- sensor–head coordinate transformation matrices\n",
    "\n",
    "and so forth. See the [`the API reference`](https://martinos.org/mne/stable/generated/mne.Info.html)\n",
    "for a complete list of all data fields. Once created, this object is passed\n",
    "around throughout the data analysis pipeline.\n",
    "\n"
   ]
  },
  {
   "cell_type": "markdown",
   "metadata": {
    "slideshow": {
     "slide_type": "slide"
    }
   },
   "source": [
    "[`mne.Info`](https://martinos.org/mne/stable/generated/mne.Info.html) behaves as a nested Python dictionary:\n",
    "\n"
   ]
  },
  {
   "cell_type": "code",
   "execution_count": null,
   "metadata": {
    "slideshow": {
     "slide_type": "fragment"
    }
   },
   "outputs": [],
   "source": [
    "import mne\n",
    "import os.path as op"
   ]
  },
  {
   "cell_type": "code",
   "execution_count": null,
   "metadata": {
    "slideshow": {
     "slide_type": "fragment"
    }
   },
   "outputs": [],
   "source": [
    "# Read the info object from an example recording\n",
    "info = mne.io.read_info(\n",
    "    op.join(mne.datasets.sample.data_path(), 'MEG', 'sample',\n",
    "            'sample_audvis_raw.fif'), verbose=False)"
   ]
  },
  {
   "cell_type": "markdown",
   "metadata": {
    "slideshow": {
     "slide_type": "fragment"
    }
   },
   "source": [
    "List all the fields in the info object\n",
    "\n"
   ]
  },
  {
   "cell_type": "code",
   "execution_count": null,
   "metadata": {
    "slideshow": {
     "slide_type": "-"
    }
   },
   "outputs": [],
   "source": [
    "print('Keys in info dictionary:\\n', info.keys())"
   ]
  },
  {
   "cell_type": "markdown",
   "metadata": {
    "slideshow": {
     "slide_type": "fragment"
    }
   },
   "source": [
    "List all information about the first data channel\n",
    "\n"
   ]
  },
  {
   "cell_type": "code",
   "execution_count": null,
   "metadata": {
    "slideshow": {
     "slide_type": "-"
    }
   },
   "outputs": [],
   "source": [
    "print(info['chs'][0])"
   ]
  },
  {
   "cell_type": "markdown",
   "metadata": {
    "slideshow": {
     "slide_type": "slide"
    }
   },
   "source": [
    "Obtain the sampling rate of the data\n",
    "\n"
   ]
  },
  {
   "cell_type": "code",
   "execution_count": null,
   "metadata": {
    "slideshow": {
     "slide_type": "fragment"
    }
   },
   "outputs": [],
   "source": [
    "print(info['sfreq'], 'Hz')"
   ]
  },
  {
   "cell_type": "markdown",
   "metadata": {
    "slideshow": {
     "slide_type": "slide"
    }
   },
   "source": [
    "\n",
    "Obtaining subsets of channels\n",
    "-----------------------------\n",
    "\n",
    "There are a number of convenience functions to obtain channel indices, given\n",
    "an [`mne.Info`](https://martinos.org/mne/stable/generated/mne.Info.html#mne.Info) object.\n",
    "\n"
   ]
  },
  {
   "cell_type": "markdown",
   "metadata": {
    "slideshow": {
     "slide_type": "fragment"
    }
   },
   "source": [
    "Get channel indices by name\n",
    "\n"
   ]
  },
  {
   "cell_type": "code",
   "execution_count": null,
   "metadata": {
    "slideshow": {
     "slide_type": "-"
    }
   },
   "outputs": [],
   "source": [
    "channel_indices = mne.pick_channels(info['ch_names'], ['MEG 0312', 'EEG 005'])"
   ]
  },
  {
   "cell_type": "markdown",
   "metadata": {
    "slideshow": {
     "slide_type": "fragment"
    }
   },
   "source": [
    "Get channel indices by regular expression\n",
    "\n"
   ]
  },
  {
   "cell_type": "code",
   "execution_count": null,
   "metadata": {
    "slideshow": {
     "slide_type": "-"
    }
   },
   "outputs": [],
   "source": [
    "channel_indices = mne.pick_channels_regexp(info['ch_names'], 'MEG *')"
   ]
  },
  {
   "cell_type": "markdown",
   "metadata": {
    "slideshow": {
     "slide_type": "slide"
    }
   },
   "source": [
    "Channel types\n",
    "-------------\n",
    "\n",
    "MNE supports different channel types:\n",
    "\n",
    "- eeg : For EEG channels with data stored in Volts (V)\n",
    "- meg (mag) : For MEG magnetometers channels stored in Tesla (T)\n",
    "- meg (grad) : For MEG gradiometers channels stored in Tesla/Meter (T/m)\n",
    "- ecg : For ECG channels stored in Volts (V)\n",
    "- seeg : For Stereotactic EEG channels in Volts (V).\n",
    "- ecog : For Electrocorticography (ECoG) channels in Volts (V).\n",
    "- fnirs (HBO) : Functional near-infrared spectroscopy oxyhemoglobin data.\n",
    "- fnirs (HBR) : Functional near-infrared spectroscopy deoxyhemoglobin data.\n",
    "- emg : For EMG channels stored in Volts (V)\n",
    "- bio : For biological channels (AU).\n",
    "- stim : For the stimulus (a.k.a. trigger) channels (AU)\n",
    "- resp : For the response-trigger channel (AU)\n",
    "- chpi : For HPI coil channels (T).\n",
    "- exci : Flux excitation channel used to be a stimulus channel.\n",
    "- ias : For Internal Active Shielding data (maybe on Triux only).\n",
    "- syst : System status channel information (on Triux systems only)."
   ]
  },
  {
   "cell_type": "markdown",
   "metadata": {
    "slideshow": {
     "slide_type": "subslide"
    }
   },
   "source": [
    "Get channel indices by type"
   ]
  },
  {
   "cell_type": "code",
   "execution_count": null,
   "metadata": {
    "slideshow": {
     "slide_type": "-"
    }
   },
   "outputs": [],
   "source": [
    "channel_indices = mne.pick_types(info, meg=True)  # MEG only\n",
    "channel_indices = mne.pick_types(info, meg=False, eeg=True)  # EEG only"
   ]
  },
  {
   "cell_type": "markdown",
   "metadata": {
    "slideshow": {
     "slide_type": "fragment"
    }
   },
   "source": [
    "MEG gradiometers and EEG channels\n",
    "\n"
   ]
  },
  {
   "cell_type": "code",
   "execution_count": null,
   "metadata": {
    "slideshow": {
     "slide_type": "-"
    }
   },
   "outputs": [],
   "source": [
    "channel_indices = mne.pick_types(info, meg='grad', eeg=True)"
   ]
  },
  {
   "cell_type": "markdown",
   "metadata": {
    "slideshow": {
     "slide_type": "fragment"
    }
   },
   "source": [
    "Get a dictionary of channel indices, grouped by channel type\n",
    "\n"
   ]
  },
  {
   "cell_type": "code",
   "execution_count": null,
   "metadata": {
    "slideshow": {
     "slide_type": "-"
    }
   },
   "outputs": [],
   "source": [
    "channel_indices_by_type = mne.io.pick.channel_indices_by_type(info)\n",
    "print('The first three magnetometers:', channel_indices_by_type['mag'][:3])"
   ]
  },
  {
   "cell_type": "markdown",
   "metadata": {
    "slideshow": {
     "slide_type": "slide"
    }
   },
   "source": [
    "Obtaining information about channels\n",
    "------------------------------------\n",
    "\n"
   ]
  },
  {
   "cell_type": "markdown",
   "metadata": {
    "slideshow": {
     "slide_type": "fragment"
    }
   },
   "source": [
    "Channel type of a specific channel"
   ]
  },
  {
   "cell_type": "code",
   "execution_count": null,
   "metadata": {
    "slideshow": {
     "slide_type": "-"
    }
   },
   "outputs": [],
   "source": [
    "channel_type = mne.io.pick.channel_type(info, 75)\n",
    "print('Channel #75 is of type:', channel_type)"
   ]
  },
  {
   "cell_type": "markdown",
   "metadata": {
    "slideshow": {
     "slide_type": "fragment"
    }
   },
   "source": [
    "Channel types of a collection of channels\n",
    "\n"
   ]
  },
  {
   "cell_type": "code",
   "execution_count": null,
   "metadata": {
    "slideshow": {
     "slide_type": "-"
    }
   },
   "outputs": [],
   "source": [
    "meg_channels = mne.pick_types(info, meg=True)[:10]\n",
    "channel_types = [mne.io.pick.channel_type(info, ch) for ch in meg_channels]\n",
    "print('First 10 MEG channels are of type:\\n', channel_types)"
   ]
  },
  {
   "cell_type": "markdown",
   "metadata": {
    "slideshow": {
     "slide_type": "slide"
    }
   },
   "source": [
    "Dropping channels from an info structure\n",
    "----------------------------------------\n",
    "\n",
    "It is possible to limit the info structure to only include a subset of\n",
    "channels with the [`mne.pick_info`](https://martinos.org/mne/stable/generated/mne.pick_info.html#mne.pick_info) function:\n",
    "\n"
   ]
  },
  {
   "cell_type": "code",
   "execution_count": null,
   "metadata": {
    "slideshow": {
     "slide_type": "fragment"
    }
   },
   "outputs": [],
   "source": [
    "# Only keep EEG channels\n",
    "eeg_indices = mne.pick_types(info, meg=False, eeg=True)\n",
    "reduced_info = mne.pick_info(info, eeg_indices)\n",
    "\n",
    "print(reduced_info)"
   ]
  },
  {
   "cell_type": "markdown",
   "metadata": {
    "slideshow": {
     "slide_type": "slide"
    }
   },
   "source": [
    "Exercises\n",
    "--------------\n",
    "\n",
    "1) Can you plot the EEG sensors in the info?"
   ]
  },
  {
   "cell_type": "code",
   "execution_count": null,
   "metadata": {
    "slideshow": {
     "slide_type": "fragment"
    }
   },
   "outputs": [],
   "source": [
    "import matplotlib.pyplot as plt\n",
    "from mpl_toolkits.mplot3d import Axes3D\n",
    "\n",
    "fig = plt.figure()\n",
    "ax = fig.add_subplot(111, projection='3d')\n",
    "\n",
    "# your code here to compute x, y, z\n",
    "\n",
    "# ax.scatter(x, y, z)"
   ]
  },
  {
   "cell_type": "markdown",
   "metadata": {},
   "source": [
    "2) Try to find MNE buildin method to visualize 3D sensor position and plot. "
   ]
  },
  {
   "cell_type": "code",
   "execution_count": null,
   "metadata": {},
   "outputs": [],
   "source": [
    "# your code here"
   ]
  },
  {
   "cell_type": "code",
   "execution_count": null,
   "metadata": {},
   "outputs": [],
   "source": []
  }
 ],
 "metadata": {
  "kernelspec": {
   "display_name": "Python 3",
   "language": "python",
   "name": "python3"
  },
  "language_info": {
   "codemirror_mode": {
    "name": "ipython",
    "version": 3
   },
   "file_extension": ".py",
   "mimetype": "text/x-python",
   "name": "python",
   "nbconvert_exporter": "python",
   "pygments_lexer": "ipython3",
   "version": "3.8.5"
  }
 },
 "nbformat": 4,
 "nbformat_minor": 4
}
